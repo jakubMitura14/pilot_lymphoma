{
 "cells": [
  {
   "cell_type": "code",
   "execution_count": 2,
   "metadata": {},
   "outputs": [],
   "source": [
    "import functools\n",
    "import re\n",
    "import typing\n",
    "import jax\n",
    "import jax.numpy as jnp\n",
    "from jax.scipy.spatial.transform import Rotation\n"
   ]
  },
  {
   "cell_type": "code",
   "execution_count": 47,
   "metadata": {},
   "outputs": [
    {
     "data": {
      "text/plain": [
       "Array([[2., 2., 2.],\n",
       "       [2., 1., 2.],\n",
       "       [2., 3., 2.]], dtype=float32)"
      ]
     },
     "execution_count": 47,
     "metadata": {},
     "output_type": "execute_result"
    }
   ],
   "source": [
    "#adapted from https://stackoverflow.com/questions/74519927/best-way-to-rotate-and-translate-a-set-of-points-in-python\n",
    "\n",
    "def rotate_and_translate(points: jnp.ndarray\n",
    "                         , center_point: jnp.ndarray, rotation_vector: jnp.ndarray,\n",
    "                         translation_vector: jnp.ndarray) -> jnp.ndarray:\n",
    "    rotation_matrix = Rotation.from_rotvec(rotation_vector).as_matrix()\n",
    "    return (points - center_point) @ rotation_matrix.T + center_point + translation_vector\n",
    "\n",
    "\n",
    "\n",
    "# rotateMatrix = Rotation.from_rotvec(jnp.array([ jnp.pi,0.0, 0.0])).as_matrix()\n",
    "points=jnp.array([[0.0, 0.0, 0.0], [0.0, 1.0, 0.0], [0.0, -1.0, 0.0]])\n",
    "center_point=jnp.array([0.0, 0.0, 0.0])\n",
    "# newxy = (points-center_point) @ rotateMatrix.T + center_point\n",
    "\n",
    "newxy=rotate_and_translate(points, center_point, jnp.array([ jnp.pi,0.0, 0.0]), jnp.array([2.0, 2.0, 2.0]))\n",
    "newxy.round(2)"
   ]
  },
  {
   "cell_type": "code",
   "execution_count": 37,
   "metadata": {},
   "outputs": [
    {
     "name": "stdout",
     "output_type": "stream",
     "text": [
      "rott [4.371139e-08 0.000000e+00 0.000000e+00]\n"
     ]
    },
    {
     "data": {
      "text/plain": [
       "Array([[ 0.,  0.,  0.],\n",
       "       [ 0.,  0.,  0.],\n",
       "       [-0.,  0.,  0.]], dtype=float32)"
      ]
     },
     "execution_count": 37,
     "metadata": {},
     "output_type": "execute_result"
    }
   ],
   "source": [
    "import numpy as np\n",
    "import numpy as np\n",
    "\n",
    "rott = Rotation.from_rotvec(jnp.array([2*jnp.pi, 0.0, 0.0])).as_matrix()\n",
    "print(f\"rott {rott}\")\n",
    "points=jnp.array([[0.0, 0.0, 0.0], [1.0, 0.0, 0.0], [-1.0, 0.0, 0.0]])\n",
    "(rott*points).round(2)\n",
    "\n",
    "\n",
    "# Define the rotation matrix\n",
    "# r = np.array([[1.0000000e+00, 0.0000000e+00, 0.0000000e+00],\n",
    "#               [0.0000000e+00, 1.0000000e+00, -1.7484555e-07],\n",
    "#               [0.0000000e+00, 1.7484555e-07, 1.0000000e+00]])\n",
    "\n",
    "# # Define the 3-dimensional points\n",
    "# p = np.array([[0.0, 0.0, 0.0],\n",
    "#               [1.0, 0.0, 0.0]])\n",
    "\n",
    "\n",
    "\n",
    "\n",
    "\n",
    "\n",
    "# # Apply the rotation matrix to the points\n",
    "# def rotate_points(p, r, c):\n",
    "#     # Translate the points to the origin\n",
    "#     translated_points = p - c\n",
    "    \n",
    "#     # Rotate the translated points using the rotation matrix\n",
    "#     rotated_points = jnp.dot(translated_points, r)\n",
    "    \n",
    "#     # Translate the rotated points back to the original position\n",
    "#     final_points = rotated_points + c\n",
    "    \n",
    "#     return final_points\n",
    "\n",
    "# # Example usage\n",
    "# p = jnp.array([[0.0, 0.0, 0.0], [1.0, 0.0, 0.0], [-1.0, 0.0, 0.0]])\n",
    "# r = Rotation.from_rotvec(jnp.array([0.0,0.0, jnp.pi])).as_matrix()\n",
    "# c = jnp.array([1.0, 1.0, 1.0])\n",
    "\n",
    "# result = rotate_points(p, r, c)\n",
    "# print(result.round(2))  \n",
    "\n",
    "\n"
   ]
  },
  {
   "cell_type": "code",
   "execution_count": 13,
   "metadata": {},
   "outputs": [
    {
     "name": "stdout",
     "output_type": "stream",
     "text": [
      "[[[ 0  1  2]\n",
      "  [ 3  4  5]\n",
      "  [ 6  7  8]]\n",
      "\n",
      " [[ 9 10 11]\n",
      "  [12 13 14]\n",
      "  [15 16 17]]\n",
      "\n",
      " [[18 19 20]\n",
      "  [21 22 23]\n",
      "  [24 25 26]]]\n"
     ]
    },
    {
     "data": {
      "text/plain": [
       "Array([[[-0.38942468,  0.6105753 ,  1.6105753 ],\n",
       "        [ 2.6105752 ,  3.6105752 ,  4.610575  ],\n",
       "        [ 5.610575  ,  6.6105757 ,  7.610575  ]],\n",
       "\n",
       "       [[ 8.023394  ,  9.023394  , 10.023395  ],\n",
       "        [11.023394  , 12.023394  , 13.023395  ],\n",
       "        [14.023395  , 15.023394  , 16.023396  ]],\n",
       "\n",
       "       [[17.485338  , 18.485338  , 19.485338  ],\n",
       "        [20.485338  , 21.485338  , 22.485338  ],\n",
       "        [23.485338  , 24.485338  , 25.485338  ]]], dtype=float32)"
      ]
     },
     "execution_count": 13,
     "metadata": {},
     "output_type": "execute_result"
    }
   ],
   "source": [
    "\n",
    "def get_fiducial_loos(weights,from_landmarsk,to_landmarks):\n",
    "    \"\"\"\n",
    "    first entries in in weights are :\n",
    "        0-3 first rotation vector   \n",
    "        3-6 translation vector   \n",
    "        6-9 second rotation vector \n",
    "    so we interpret the weights as input for transormations rotation;translation;rotation\n",
    "    we apply this transformation to the fiducial points of moving image and \n",
    "    calculate the distance between transformed fiducial points and fiducial points on fixed image           \n",
    "    \"\"\"\n",
    "    \n",
    "    \n",
    "    \n",
    "    \n",
    "def transform_image(image,weights):\n",
    "    \"\"\"\n",
    "    first entries in in weights are :\n",
    "    0-3 first rotation vector   \n",
    "    3-6 translation vector   \n",
    "    6-9 second rotation vector \n",
    "    so we interpret the weights as input for transormations rotation;translation;rotation\n",
    "    \n",
    "    \"\"\"    \n",
    "    r = Rotation.from_rotvec(jnp.array([0.1, 0.2, 0.3]))\n",
    "    # imagee= jnp.zeros((3,3,3))\n",
    "\n",
    "    # Create consecutive array of integers\n",
    "    imagee = jnp.arange(27)\n",
    "    imagee = imagee.reshape((3, 3, 3))\n",
    "\n",
    "    print(imagee)\n",
    "    # r.apply(imagee).shape\n",
    "    imagee=jax.image.scale_and_translate(imagee, imagee.shape,jnp.array([0,1,2]), jnp.array([1.0,1.0,1.0]), jnp.array([0.1,0.0,0.0]), \"bicubic\")\n",
    "    imagee"
   ]
  },
  {
   "cell_type": "code",
   "execution_count": 10,
   "metadata": {},
   "outputs": [
    {
     "name": "stdout",
     "output_type": "stream",
     "text": [
      "[[[ 0  1  2]\n",
      "  [ 3  4  5]\n",
      "  [ 6  7  8]]\n",
      "\n",
      " [[ 9 10 11]\n",
      "  [12 13 14]\n",
      "  [15 16 17]]\n",
      "\n",
      " [[18 19 20]\n",
      "  [21 22 23]\n",
      "  [24 25 26]]]\n"
     ]
    },
    {
     "data": {
      "text/plain": [
       "Array([[[ 0.        ,  0.99999964,  2.0000002 ],\n",
       "        [ 3.        ,  3.999999  ,  5.0000005 ],\n",
       "        [ 6.        ,  6.9999986 ,  8.000001  ]],\n",
       "\n",
       "       [[ 9.        ,  9.999998  , 11.000002  ],\n",
       "        [12.        , 12.999997  , 14.000002  ],\n",
       "        [15.        , 15.999997  , 17.000002  ]],\n",
       "\n",
       "       [[18.        , 18.999996  , 20.000004  ],\n",
       "        [21.        , 21.999996  , 23.000004  ],\n",
       "        [24.        , 24.999996  , 26.000004  ]]], dtype=float32)"
      ]
     },
     "execution_count": 10,
     "metadata": {},
     "output_type": "execute_result"
    }
   ],
   "source": [
    "r = Rotation.from_rotvec(jnp.array([2*jnp.pi, 0.0, 0.0])) ####### it is in radians\n",
    "# imagee= jnp.zeros((3,3,3))\n",
    "\n",
    "# Create consecutive array of integers\n",
    "imagee = jnp.arange(27)\n",
    "imagee = imagee.reshape((3, 3, 3))\n",
    "\n",
    "print(imagee)\n",
    "imagee=r.apply(imagee)\n",
    "# imagee=jax.image.scale_and_translate(imagee, imagee.shape,jnp.array([0,1,2]), jnp.array([1.0,1.0,1.0]), jnp.array([0.1,0.0,0.0]), \"bicubic\")\n",
    "imagee"
   ]
  },
  {
   "cell_type": "code",
   "execution_count": null,
   "metadata": {},
   "outputs": [],
   "source": []
  }
 ],
 "metadata": {
  "kernelspec": {
   "display_name": "Python 3",
   "language": "python",
   "name": "python3"
  },
  "language_info": {
   "codemirror_mode": {
    "name": "ipython",
    "version": 3
   },
   "file_extension": ".py",
   "mimetype": "text/x-python",
   "name": "python",
   "nbconvert_exporter": "python",
   "pygments_lexer": "ipython3",
   "version": "3.8.10"
  }
 },
 "nbformat": 4,
 "nbformat_minor": 2
}
