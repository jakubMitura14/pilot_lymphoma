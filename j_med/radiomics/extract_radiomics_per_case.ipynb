{
 "cells": [
  {
   "cell_type": "code",
   "execution_count": 1,
   "metadata": {},
   "outputs": [],
   "source": [
    "import SimpleITK as sitk\n",
    "import numpy as np\n",
    "from radiomics import featureextractor, getTestCase\n",
    "import itertools\n",
    "import h5py\n",
    "import shutil\n",
    "import pandas as pd\n",
    "import tempfile\n",
    "import os\n",
    "from functools import partial\n",
    "import multiprocessing as mp\n",
    "# import radiomics"
   ]
  },
  {
   "cell_type": "code",
   "execution_count": 9,
   "metadata": {},
   "outputs": [
    {
     "data": {
      "text/plain": [
       "pat_id            2\n",
       "deauville_1     1/2\n",
       "study_0_or_1      0\n",
       "Name: 0, dtype: object"
      ]
     },
     "execution_count": 9,
     "metadata": {},
     "output_type": "execute_result"
    }
   ],
   "source": [
    "path_deauvill_df=\"/workspaces/pilot_lymphoma/data/all_deauville_form.csv\"\n",
    "path_folder_files=\"/root/data/prepared_registered\"\n",
    "deauvill_df=pd.read_csv(path_deauvill_df)\n",
    "\n",
    "curr_row=list(deauvill_df.iterrows())[0][1]\n",
    "\n",
    "#extract necessary information from dataframe\n",
    "pat_id= curr_row[\"pat_id\"]\n",
    "deauville= curr_row[\"deauville_1\"]\n",
    "study_0_or_1= curr_row[\"study_0_or_1\"]\n",
    "\n",
    "#get paths to the files from main folder\n",
    "reg_form=\"lin_transf\"\n",
    "path_curr_folder=f\"{path_folder_files}/pat_{pat_id}/{reg_form}\"\n",
    "path_SUV= f\"{path_curr_folder}/study_{study_0_or_1}_SUVS.nii.gz\"\n",
    "path_CT= f\"{path_curr_folder}/study_{study_0_or_1}_ct_soft.nii.gz\"\n",
    "\n",
    "#load the images\n",
    "img_SUV=sitk.ReadImage(path_SUV)\n",
    "img_CT=sitk.ReadImage(path_CT)\n",
    "\n",
    "\n",
    "\n"
   ]
  },
  {
   "cell_type": "code",
   "execution_count": 11,
   "metadata": {},
   "outputs": [],
   "source": [
    "main_loc_path=\"/root/data/prepared_registered/pat_2\"\n",
    "\n",
    "suv_0_p=f\"{main_loc_path}/study_0_SUVS.nii.gz\"\n",
    "suv_0=sitk.ReadImage(suv_0_p)\n",
    "\n",
    "suv_1_p=f\"{main_loc_path}/study_1_SUVS.nii.gz\"\n",
    "suv_1=sitk.ReadImage(suv_1_p)\n",
    "\n",
    "# lintransf_p=f\"{main_loc_path}/lin_transf.tfm\"\n",
    "# lintransf=sitk.ReadTransform(lintransf_p)\n",
    "# suv_0=sitk.Resample(suv_0, lintransf, sitk.sitkBSpline, 0.0, suv_0.GetPixelID())\n",
    "# sitk.WriteImage(suv_0, \"/workspaces/pilot_lymphoma/data/fully_preprocessed/pat_2/study_0_SUVS_registered.nii.gz\")\n"
   ]
  },
  {
   "cell_type": "code",
   "execution_count": 24,
   "metadata": {},
   "outputs": [
    {
     "name": "stdout",
     "output_type": "stream",
     "text": [
      "(6, 3)\n",
      "[-137.23987719038843, 104.35994720458984, -1007.3944981534718, 62.3861664248185, 132.86975860595703, -1603.9780767736302, -66.10875820106179, 145.08824920654297, -1606.2726289990924, -0.7140197753905682, 226.54485321044925, -1111.7966244119991, 15.577301025390682, 251.7849276905328, -1221.9351312341826, 25.90278603997035, 199.5838645612689, -896.5000000000002]\n"
     ]
    }
   ],
   "source": [
    "import SimpleITK as sitk\n",
    "\n",
    "# Define the fixed and moving images\n",
    "fixed_image = suv_1 #sitk.ReadImage('fixed_image.nii.gz', sitk.sitkFloat32)\n",
    "moving_image = suv_0#sitk.ReadImage('moving_image.nii.gz', sitk.sitkFloat32)\n",
    "\n",
    "# Define the fiducial points in the fixed and moving images\n",
    "fixed_points = np.load(f\"{main_loc_path}/To.npy\")#[[10.0, 10.0, 10.0],[9.0, 9.0, 9.0]]\n",
    "shh=fixed_points.shape\n",
    "fixed_points = [c for p in fixed_points for c in p]\n",
    "\n",
    "print(fixed_points)\n",
    " #[sitk.VectorDouble([10, 10, 10]), sitk.VectorDouble([20, 20, 20]), sitk.VectorDouble([30, 30, 30])]\n",
    "moving_points = np.load(f\"{main_loc_path}/From.npy\")#[[10.0, 10.0, 10.0],[9.0, 9.0, 9.0]]\n",
    "moving_points =[c for p in moving_points for c in p] #[sitk.VectorDouble([15, 15, 15]), sitk.VectorDouble([25, 25, 25]), sitk.VectorDouble([35, 35, 35])]\n",
    "\n",
    "# Create the transformation\n",
    "initial_transform = sitk.LandmarkBasedTransformInitializer(sitk.VersorRigid3DTransform(), fixed_points, moving_points,numberOfControlPoints=shh[0])\n",
    "\n",
    "# Perform the registration\n",
    "registered_image = sitk.Resample(moving_image, fixed_image, initial_transform, sitk.sitkBSpline, 0.0, moving_image.GetPixelID())\n",
    "\n",
    "# Write the registered image to a file\n",
    "sitk.WriteImage(registered_image, \"/workspaces/pilot_lymphoma/data/fully_preprocessed/pat_2/study_0_SUVS_registered.nii.gz\")"
   ]
  },
  {
   "cell_type": "code",
   "execution_count": null,
   "metadata": {},
   "outputs": [],
   "source": []
  }
 ],
 "metadata": {
  "kernelspec": {
   "display_name": "Python 3",
   "language": "python",
   "name": "python3"
  },
  "language_info": {
   "codemirror_mode": {
    "name": "ipython",
    "version": 3
   },
   "file_extension": ".py",
   "mimetype": "text/x-python",
   "name": "python",
   "nbconvert_exporter": "python",
   "pygments_lexer": "ipython3",
   "version": "3.10.12"
  }
 },
 "nbformat": 4,
 "nbformat_minor": 2
}
